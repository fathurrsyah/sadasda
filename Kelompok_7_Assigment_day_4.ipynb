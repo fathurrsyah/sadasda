{
  "nbformat": 4,
  "nbformat_minor": 0,
  "metadata": {
    "colab": {
      "provenance": []
    },
    "kernelspec": {
      "name": "python3",
      "display_name": "Python 3"
    },
    "language_info": {
      "name": "python"
    }
  },
  "cells": [
    {
      "cell_type": "code",
      "source": [
        "kelompok = \"kelompok 7\"\n",
        "anggota = \"Animni Fiddaroini, Alya Nabila, Gloria Wiradika.Z, Fathur Rahman.S, Imas Siti Masitoh\"\n",
        "print (kelompok)\n",
        "print (anggota)"
      ],
      "metadata": {
        "colab": {
          "base_uri": "https://localhost:8080/"
        },
        "id": "AKZSUGwqJRjE",
        "outputId": "b1b327d3-f8f4-4eb5-e537-4c91d8544c86"
      },
      "execution_count": null,
      "outputs": [
        {
          "output_type": "stream",
          "name": "stdout",
          "text": [
            "kelompok 7\n",
            "Animni Fiddaroini, Alya Nabila, Gloria Wiradika.Z, Fathur Rahman.S, Imas Siti Masitoh\n"
          ]
        }
      ]
    },
    {
      "cell_type": "code",
      "source": [
        "import math\n",
        "\n",
        "class BangunDatar:\n",
        "    def hitung_luas(self):\n",
        "        pass\n",
        "\n",
        "class Persegi(BangunDatar):\n",
        "    def __init__(self, sisi):\n",
        "        self.sisi = sisi\n",
        "\n",
        "    def hitung_luas(self):\n",
        "        return self.sisi ** 2\n",
        "\n",
        "class PersegiPanjang(BangunDatar):\n",
        "    def __init__(self, panjang, lebar):\n",
        "        self.panjang = panjang\n",
        "        self.lebar = lebar\n",
        "\n",
        "    def hitung_luas(self):\n",
        "        return self.panjang * self.lebar\n",
        "\n",
        "class Segitiga(BangunDatar):\n",
        "    def __init__(self, alas, tinggi):\n",
        "        self.alas = alas\n",
        "        self.tinggi = tinggi\n",
        "\n",
        "    def hitung_luas(self):\n",
        "        return 0.5 * self.alas * self.tinggi\n",
        "\n",
        "class Lingkaran(BangunDatar):\n",
        "    def __init__(self, jari_jari):\n",
        "        self.jari_jari = jari_jari\n",
        "\n",
        "    def hitung_luas(self):\n",
        "        return 3.14 * self.jari_jari ** 2\n",
        "\n",
        "class Trapesium(BangunDatar):\n",
        "    def __init__(self, alas1, alas2, tinggi):\n",
        "        self.alas1 = alas1\n",
        "        self.alas2 = alas2\n",
        "        self.tinggi = tinggi\n",
        "\n",
        "    def hitung_luas(self):\n",
        "        return 0.5 * (self.alas1 + self.alas2) * self.tinggi\n",
        "\n",
        "# Main program\n",
        "def main():\n",
        "    n = int(input(\"Masukkan jumlah bangun datar yang akan dihitung luasnya: \"))\n",
        "    bangun_datar_list = []\n",
        "\n",
        "    for i in range(n):\n",
        "        jenis = input(f\"Bangun datar ke-{i+1} (persegi/persegi panjang/segitiga/lingkaran/trapesium): \").lower()\n",
        "\n",
        "        if jenis == \"persegi\":\n",
        "            sisi = float(input(\"Masukkan panjang sisi: \"))\n",
        "            bangun_datar = Persegi(sisi)\n",
        "        elif jenis == \"persegi panjang\":\n",
        "            panjang = float(input(\"Masukkan panjang: \"))\n",
        "            lebar = float(input(\"Masukkan lebar: \"))\n",
        "            bangun_datar = PersegiPanjang(panjang, lebar)\n",
        "        elif jenis == \"segitiga\":\n",
        "            alas = float(input(\"Masukkan alas: \"))\n",
        "            tinggi = float(input(\"Masukkan tinggi: \"))\n",
        "            bangun_datar = Segitiga(alas, tinggi)\n",
        "        elif jenis == \"lingkaran\":\n",
        "            jari_jari = float(input(\"Masukkan jari-jari: \"))\n",
        "            bangun_datar = Lingkaran(jari_jari)\n",
        "        elif jenis == \"trapesium\":\n",
        "            alas1 = float(input(\"Masukkan panjang alas atas: \"))\n",
        "            alas2 = float(input(\"Masukkan panjang alas bawah: \"))\n",
        "            tinggi = float(input(\"Masukkan tinggi: \"))\n",
        "            bangun_datar = Trapesium(alas1, alas2, tinggi)\n",
        "        else:\n",
        "            print(\"Jenis bangun datar tidak valid.\")\n",
        "            continue\n",
        "\n",
        "        bangun_datar_list.append(bangun_datar)\n",
        "\n",
        "    # Hitung luas masing-masing bangun datar\n",
        "    luas_bangun_datar = [bangun_datar.hitung_luas() for bangun_datar in bangun_datar_list]\n",
        "\n",
        "    # Urutkan luas bangun datar dari terkecil hingga terbesar\n",
        "    luas_bangun_datar.sort()\n",
        "\n",
        "    # Hitung total luas bangun datar\n",
        "    total_luas = sum(luas_bangun_datar)\n",
        "\n",
        "    # Tampilkan hasil\n",
        "    print(\"Luas Bangun Datar:\")\n",
        "    for i, luas in enumerate(luas_bangun_datar):\n",
        "        print(f\"Bangun datar ke-{i+1}: {luas}\")\n",
        "    print(f\"Total Luas: {total_luas}\")\n",
        "\n",
        "if __name__ == \"__main__\":\n",
        "    main()\n"
      ],
      "metadata": {
        "id": "3EG0bsDQIgDU"
      },
      "execution_count": null,
      "outputs": []
    }
  ]
}